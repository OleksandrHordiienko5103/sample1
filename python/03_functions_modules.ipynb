{
 "cells": [
  {
   "cell_type": "markdown",
   "id": "7cceceee",
   "metadata": {},
   "source": [
    "Ось **розгорнутий контент для третього файлу `03_functions_modules.ipynb`**, який зосереджено на використанні функцій та модулів Python у контексті **інформаційно-аналітичного забезпечення військових штабів**.\n",
    "\n",
    "---\n",
    "\n",
    "# 📘 `03_functions_modules.ipynb`\n",
    "\n",
    "## **Тема: Функції та модулі у військовій аналітиці**\n",
    "\n",
    "---\n",
    "\n",
    "### 🔹 Вступ\n",
    "\n",
    "Функції дозволяють структурувати код, повторно використовувати логіку для аналізу бойових звітів, оцінки ситуацій та генерації звітів. Модулі — це бібліотеки, які розширюють можливості Python.\n",
    "\n",
    "---\n",
    "\n",
    "### 🔸 1. Оголошення функцій\n",
    "\n",
    "#### ✅ Синтаксис:\n",
    "\n",
    "```python\n",
    "def function_name(parameters):\n",
    "    # тіло функції\n",
    "    return result\n",
    "```\n",
    "\n",
    "#### ▶️ Приклад: обчислення рівня ризику за кількістю противника\n",
    "\n",
    "```python\n",
    "def evaluate_risk(enemy_strength):\n",
    "    if enemy_strength > 200:\n",
    "        return \"Високий\"\n",
    "    elif enemy_strength > 100:\n",
    "        return \"Середній\"\n",
    "    else:\n",
    "        return \"Низький\"\n",
    "\n",
    "print(evaluate_risk(150))  # \"Середній\"\n",
    "```\n",
    "\n",
    "---\n",
    "\n",
    "### 🔸 2. Аргументи за замовчуванням\n",
    "\n",
    "```python\n",
    "def assess_readiness(personnel_ready, total=100):\n",
    "    return personnel_ready / total\n",
    "\n",
    "print(assess_readiness(80))  # 0.8\n",
    "```\n",
    "\n",
    "---\n",
    "\n",
    "### 🔸 3. `*args` та `**kwargs`\n",
    "\n",
    "#### ▶️ Сума втрат за днями:\n",
    "\n",
    "```python\n",
    "def total_losses(*days):\n",
    "    return sum(days)\n",
    "\n",
    "print(total_losses(12, 30, 45))  # 87\n",
    "```\n",
    "\n",
    "---\n",
    "\n",
    "### 🔸 4. Використання модулів Python\n",
    "\n",
    "#### 📦 Імпорт стандартних бібліотек:\n",
    "\n",
    "```python\n",
    "import math\n",
    "import random\n",
    "```\n",
    "\n",
    "#### ✅ Приклади:\n",
    "\n",
    "* `math.sqrt()` — корінь із площі сектору\n",
    "* `random.choice()` — вибір випадкового напрямку для моделювання\n",
    "\n",
    "---\n",
    "\n",
    "### 🔸 5. Імпорт з модулів\n",
    "\n",
    "```python\n",
    "from math import sqrt\n",
    "print(sqrt(144))  # 12.0\n",
    "```\n",
    "\n",
    "---\n",
    "\n",
    "### 🔸 6. Створення власного модуля\n",
    "\n",
    "> Створіть файл `analysis_utils.py`:\n",
    "\n",
    "```python\n",
    "def calculate_efficiency(successful_ops, total_ops):\n",
    "    return successful_ops / total_ops\n",
    "```\n",
    "\n",
    "> Використайте у `ipynb`:\n",
    "\n",
    "```python\n",
    "from analysis_utils import calculate_efficiency\n",
    "\n",
    "print(calculate_efficiency(8, 10))  # 0.8\n",
    "```\n",
    "\n",
    "---\n",
    "\n",
    "### 📝 Практичні завдання:\n",
    "\n",
    "1. Створіть функцію, яка на основі втрат і чисельності ворога оцінює результативність дій.\n",
    "2. Напишіть функцію для обрахунку середніх втрат за кілька днів.\n",
    "3. Імпортуйте модуль `random` і змоделюйте напрямок наступу.\n",
    "4. Створіть власний модуль із функціями для оцінки логістичної готовності.\n",
    "\n"
   ]
  },
  {
   "cell_type": "markdown",
   "id": "6fa797d8",
   "metadata": {},
   "source": [
    "Завдання 1. Створіть функцію, яка на основі втрат і чисельності ворога оцінює результативність дій."
   ]
  },
  {
   "cell_type": "code",
   "execution_count": 1,
   "id": "69d45265",
   "metadata": {},
   "outputs": [
    {
     "name": "stdout",
     "output_type": "stream",
     "text": [
      "Висока\n",
      "Низька\n",
      "Середня\n"
     ]
    }
   ],
   "source": [
    "def evaluate_effectiveness(enemy_losses, enemy_total):\n",
    "    \"\"\"\n",
    "    Оцінює результативність дій за співвідношенням втрат до загальної чисельності ворога.\n",
    "    \n",
    "    Параметри:\n",
    "    enemy_losses (int) — втрати ворога\n",
    "    enemy_total (int) — загальна чисельність ворога\n",
    "    \n",
    "    Повертає:\n",
    "    str — оцінка результативності: \"Висока\", \"Середня\", \"Низька\"\n",
    "    \"\"\"\n",
    "    if enemy_total == 0:\n",
    "        return \"Немає даних про чисельність ворога\"\n",
    "    \n",
    "    ratio = enemy_losses / enemy_total\n",
    "    \n",
    "    if ratio > 0.5:\n",
    "        return \"Висока\"\n",
    "    elif ratio > 0.2:\n",
    "        return \"Середня\"\n",
    "    else:\n",
    "        return \"Низька\"\n",
    "\n",
    "# Приклад використання:\n",
    "print(evaluate_effectiveness(120, 200))  # Висока\n",
    "print(evaluate_effectiveness(30, 150))   # Низька\n",
    "print(evaluate_effectiveness(40, 150))   # Середня\n"
   ]
  },
  {
   "cell_type": "markdown",
   "id": "17d7decd",
   "metadata": {},
   "source": [
    "Завдання 2. Напишіть функцію для обрахунку середніх втрат за кілька днів."
   ]
  },
  {
   "cell_type": "code",
   "execution_count": 2,
   "id": "a693f2f4",
   "metadata": {},
   "outputs": [
    {
     "name": "stdout",
     "output_type": "stream",
     "text": [
      "40.0\n",
      "0\n"
     ]
    }
   ],
   "source": [
    "def average_losses(*losses_per_day):\n",
    "    \"\"\"\n",
    "    Обчислює середні втрати за кілька днів.\n",
    "    \n",
    "    Параметри:\n",
    "    *losses_per_day — кількість втрат за кожен день (по одному числу на день)\n",
    "    \n",
    "    Повертає:\n",
    "    float — середні втрати\n",
    "    \"\"\"\n",
    "    if not losses_per_day:\n",
    "        return 0  # Якщо даних немає\n",
    "    \n",
    "    total = sum(losses_per_day)\n",
    "    count = len(losses_per_day)\n",
    "    return total / count\n",
    "\n",
    "# Приклад використання:\n",
    "print(average_losses(30, 45, 25, 60))  # 40.0\n",
    "print(average_losses())  # 0\n"
   ]
  },
  {
   "cell_type": "markdown",
   "id": "b53a9ea7",
   "metadata": {},
   "source": [
    "Завдання 3. Імпортуйте модуль `random` і змоделюйте напрямок наступу."
   ]
  },
  {
   "cell_type": "code",
   "execution_count": 3,
   "id": "e00974fc",
   "metadata": {},
   "outputs": [
    {
     "name": "stdout",
     "output_type": "stream",
     "text": [
      "Напрямок наступу: Схід\n"
     ]
    }
   ],
   "source": [
    "import random\n",
    "\n",
    "directions = [\"Схід\", \"Південь\", \"Північ\", \"Захід\"]\n",
    "\n",
    "# Вибір випадкового напрямку\n",
    "attack_direction = random.choice(directions)\n",
    "\n",
    "print(f\"Напрямок наступу: {attack_direction}\")\n"
   ]
  },
  {
   "cell_type": "markdown",
   "id": "431b41b6",
   "metadata": {},
   "source": [
    "Завдання 4. Створіть власний модуль із функціями для оцінки логістичної готовності."
   ]
  },
  {
   "cell_type": "code",
   "execution_count": 4,
   "id": "2742aa00",
   "metadata": {},
   "outputs": [],
   "source": [
    "def supply_readiness(current_supplies, required_supplies):\n",
    "    \"\"\"\n",
    "    Оцінює готовність постачання як відношення наявних до потрібних ресурсів.\n",
    "    \n",
    "    Параметри:\n",
    "    current_supplies (int або float) — наявні ресурси\n",
    "    required_supplies (int або float) — необхідні ресурси\n",
    "    \n",
    "    Повертає:\n",
    "    float — коефіцієнт готовності від 0 до 1\n",
    "    \"\"\"\n",
    "    if required_supplies == 0:\n",
    "        return 1.0  # Якщо нічого не потрібно, готовність максимальна\n",
    "    readiness = current_supplies / required_supplies\n",
    "    return min(max(readiness, 0), 1)  # обмежуємо від 0 до 1\n",
    "\n",
    "def is_ready_for_operation(readiness_threshold, *readiness_scores):\n",
    "    \"\"\"\n",
    "    Перевіряє, чи перевищують усі показники готовності заданий поріг.\n",
    "    \n",
    "    Параметри:\n",
    "    readiness_threshold (float) — поріг готовності (наприклад, 0.8)\n",
    "    *readiness_scores (float) — набір показників готовності\n",
    "    \n",
    "    Повертає:\n",
    "    bool — True, якщо всі показники >= порогу, інакше False\n",
    "    \"\"\"\n",
    "    return all(score >= readiness_threshold for score in readiness_scores)\n"
   ]
  }
 ],
 "metadata": {
  "kernelspec": {
   "display_name": "Python 3",
   "language": "python",
   "name": "python3"
  },
  "language_info": {
   "codemirror_mode": {
    "name": "ipython",
    "version": 3
   },
   "file_extension": ".py",
   "mimetype": "text/x-python",
   "name": "python",
   "nbconvert_exporter": "python",
   "pygments_lexer": "ipython3",
   "version": "3.11.9"
  }
 },
 "nbformat": 4,
 "nbformat_minor": 5
}
