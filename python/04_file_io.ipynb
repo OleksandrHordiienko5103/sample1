{
 "cells": [
  {
   "cell_type": "markdown",
   "id": "fe40732e",
   "metadata": {},
   "source": [
    "Ось **розгорнутий контент для файлу `04_file_io.ipynb`**, присвячений **роботі з файлами у контексті інформаційно-аналітичного забезпечення військових штабів**.\n",
    "\n",
    "---\n",
    "\n",
    "# 📘 `04_file_io.ipynb`\n",
    "\n",
    "## **Тема: Робота з файлами звітності**\n",
    "\n",
    "---\n",
    "\n",
    "### 🔹 Вступ\n",
    "\n",
    "Файли — основне джерело зберігання оперативних зведень, звітів, донесень, оцінок втрат та інших структурованих чи напівструктурованих даних. Python дозволяє легко читати та записувати інформацію, що критично для штабної аналітики.\n",
    "\n",
    "---\n",
    "\n",
    "### 🔸 1. Зчитування текстових файлів\n",
    "\n",
    "#### ✅ Структура файлу `daily_report.txt`:\n",
    "\n",
    "```\n",
    "Дата: 2025-06-16\n",
    "Напрям: Схід\n",
    "Втрати противника: 124\n",
    "Підрозділи: 1-а мехбр, 3-я танкбр\n",
    "```\n",
    "\n",
    "#### ▶️ Зчитування:\n",
    "\n",
    "```python\n",
    "with open(\"daily_report.txt\", \"r\", encoding=\"utf-8\") as f:\n",
    "    content = f.read()\n",
    "\n",
    "print(content)\n",
    "```\n",
    "\n",
    "---\n",
    "\n",
    "### 🔸 2. Обробка пострічково\n",
    "\n",
    "```python\n",
    "with open(\"daily_report.txt\", \"r\", encoding=\"utf-8\") as f:\n",
    "    for line in f:\n",
    "        print(\">>\", line.strip())\n",
    "```\n",
    "\n",
    "---\n",
    "\n",
    "### 🔸 3. Запис файлу\n",
    "\n",
    "#### ▶️ Звіт-аналітика:\n",
    "\n",
    "```python\n",
    "summary = \"Звіт сформовано.\\nПротивник зазнав значних втрат.\\nРекомендація: перейти до активних дій.\"\n",
    "\n",
    "with open(\"summary_report.txt\", \"w\", encoding=\"utf-8\") as f:\n",
    "    f.write(summary)\n",
    "```\n",
    "\n",
    "---\n",
    "\n",
    "### 🔸 4. Додавання інформації у файл\n",
    "\n",
    "```python\n",
    "with open(\"log.txt\", \"a\", encoding=\"utf-8\") as f:\n",
    "    f.write(\"🔹 Новий запис: аналіз за напрямком Південь\\n\")\n",
    "```\n",
    "\n",
    "---\n",
    "\n",
    "### 🔸 5. Робота з CSV-файлами\n",
    "\n",
    "> Файл `losses.csv`:\n",
    "\n",
    "```csv\n",
    "Дата,Напрямок,Втрати\n",
    "2025-06-10,Схід,102\n",
    "2025-06-11,Схід,134\n",
    "2025-06-12,Південь,98\n",
    "```\n",
    "\n",
    "#### ▶️ Зчитування з `pandas`:\n",
    "\n",
    "```python\n",
    "import pandas as pd\n",
    "df = pd.read_csv(\"losses.csv\")\n",
    "print(df)\n",
    "```\n",
    "\n",
    "#### ▶️ Запис:\n",
    "\n",
    "```python\n",
    "df.to_csv(\"losses_updated.csv\", index=False)\n",
    "```\n",
    "\n",
    "---\n",
    "\n",
    "### 🔸 6. Фільтрація за напрямком\n",
    "\n",
    "```python\n",
    "east_df = df[df[\"Напрямок\"] == \"Схід\"]\n",
    "print(east_df)\n",
    "```\n",
    "\n",
    "---\n",
    "\n",
    "### 📝 Практичні завдання:\n",
    "\n",
    "1. Зчитати файл бойового донесення та вивести кількість втрат противника.\n",
    "2. Створити файл `summary.txt`, у якому підсумувати ситуацію за день.\n",
    "3. Зчитати CSV-файл зі втратами по напрямках і вивести дані лише за напрямком \"Південь\".\n",
    "4. Додати лог-файл, куди записується кожен факт зчитування.\n",
    "\n"
   ]
  },
  {
   "cell_type": "markdown",
   "id": "2cc15302",
   "metadata": {},
   "source": [
    "Завдання 1. Зчитати файл бойового донесення та вивести кількість втрат противника."
   ]
  },
  {
   "cell_type": "code",
   "execution_count": 2,
   "id": "ef136aab",
   "metadata": {},
   "outputs": [
    {
     "name": "stdout",
     "output_type": "stream",
     "text": [
      "Кількість втрат противника: 124\n"
     ]
    }
   ],
   "source": [
    "# 1. Створюємо тестовий файл з прикладом бойового донесення\n",
    "report_text = \"\"\"Дата: 2025-06-16\n",
    "Напрям: Схід\n",
    "Втрати противника: 124\n",
    "Підрозділи: 1-а мехбр, 3-я танкбр\n",
    "\"\"\"\n",
    "\n",
    "with open(\"daily_report.txt\", \"w\", encoding=\"utf-8\") as f:\n",
    "    f.write(report_text)\n",
    "\n",
    "# 2. Читаємо файл і шукаємо рядок із втратами противника\n",
    "losses = None\n",
    "\n",
    "with open(\"daily_report.txt\", \"r\", encoding=\"utf-8\") as f:\n",
    "    for line in f:\n",
    "        if line.startswith(\"Втрати противника:\"):\n",
    "            losses = int(line.strip().split(\":\")[1].strip())\n",
    "            break\n",
    "\n",
    "# 3. Виводимо результат\n",
    "if losses is not None:\n",
    "    print(f\"Кількість втрат противника: {losses}\")\n",
    "else:\n",
    "    print(\"Інформація про втрати противника не знайдена у файлі.\")\n"
   ]
  },
  {
   "cell_type": "markdown",
   "id": "ef5bc2d8",
   "metadata": {},
   "source": [
    "Завдання 2. Створити файл `summary.txt`, у якому підсумувати ситуацію за день."
   ]
  },
  {
   "cell_type": "code",
   "execution_count": 3,
   "id": "5c67aa81",
   "metadata": {},
   "outputs": [
    {
     "name": "stdout",
     "output_type": "stream",
     "text": [
      "Файл summary.txt створено з підсумком ситуації за день.\n"
     ]
    }
   ],
   "source": [
    "# Приклад вмісту бойового донесення для створення файлу (якщо потрібно)\n",
    "report_text = \"\"\"Дата: 2025-06-16\n",
    "Напрям: Схід\n",
    "Втрати противника: 124\n",
    "Підрозділи: 1-а мехбр, 3-я танкбр\n",
    "\"\"\"\n",
    "\n",
    "# Записуємо звіт у файл (коментуй цей блок, якщо файл вже є)\n",
    "with open(\"daily_report.txt\", \"w\", encoding=\"utf-8\") as f:\n",
    "    f.write(report_text)\n",
    "\n",
    "# Читаємо дані з файлу\n",
    "data = {}\n",
    "with open(\"daily_report.txt\", \"r\", encoding=\"utf-8\") as f:\n",
    "    for line in f:\n",
    "        if \":\" in line:\n",
    "            key, value = line.strip().split(\":\", 1)\n",
    "            data[key.strip()] = value.strip()\n",
    "\n",
    "# Формуємо підсумковий текст\n",
    "summary = (\n",
    "    f\"Звіт за день {data.get('Дата', 'невідомо')}:\\n\"\n",
    "    f\"Напрям дій: {data.get('Напрям', 'невідомо')}\\n\"\n",
    "    f\"Втрати противника: {data.get('Втрати противника', 'невідомо')}\\n\"\n",
    "    f\"Підрозділи, що брали участь: {data.get('Підрозділи', 'невідомо')}\\n\"\n",
    "    \"\\nРекомендація: продовжувати аналіз та моніторинг ситуації.\"\n",
    ")\n",
    "\n",
    "# Записуємо підсумок у файл summary.txt\n",
    "with open(\"summary.txt\", \"w\", encoding=\"utf-8\") as f:\n",
    "    f.write(summary)\n",
    "\n",
    "print(\"Файл summary.txt створено з підсумком ситуації за день.\")\n"
   ]
  },
  {
   "cell_type": "markdown",
   "id": "0faddf9a",
   "metadata": {},
   "source": [
    "Завдання 3. Зчитати CSV-файл зі втратами по напрямках і вивести дані лише за напрямком \"Південь\"."
   ]
  },
  {
   "cell_type": "code",
   "execution_count": 4,
   "id": "28693074",
   "metadata": {},
   "outputs": [
    {
     "name": "stdout",
     "output_type": "stream",
     "text": [
      "         Дата Напрямок  Втрати   Підрозділ\n",
      "2  2025-06-12  Південь      98  2-а танкбр\n",
      "4  2025-06-14  Південь      87  2-а танкбр\n"
     ]
    }
   ],
   "source": [
    "import pandas as pd\n",
    "\n",
    "# Читаємо CSV-файл\n",
    "df = pd.read_csv(\"losses.csv\")\n",
    "\n",
    "# Фільтруємо дані за напрямком \"Південь\"\n",
    "south_losses = df[df[\"Напрямок\"] == \"Південь\"]\n",
    "\n",
    "# Виводимо результати\n",
    "print(south_losses)\n"
   ]
  },
  {
   "cell_type": "markdown",
   "id": "00878879",
   "metadata": {},
   "source": [
    "Завдання 4. Додати лог-файл, куди записується кожен факт зчитування."
   ]
  },
  {
   "cell_type": "code",
   "execution_count": 5,
   "id": "91308a1f",
   "metadata": {},
   "outputs": [
    {
     "name": "stdout",
     "output_type": "stream",
     "text": [
      "         Дата Напрямок  Втрати   Підрозділ\n",
      "2  2025-06-12  Південь      98  2-а танкбр\n",
      "4  2025-06-14  Південь      87  2-а танкбр\n"
     ]
    }
   ],
   "source": [
    "import pandas as pd\n",
    "from datetime import datetime\n",
    "\n",
    "log_file = \"read_log.txt\"\n",
    "\n",
    "def log_event(message):\n",
    "    timestamp = datetime.now().strftime(\"%Y-%m-%d %H:%M:%S\")\n",
    "    with open(log_file, \"a\", encoding=\"utf-8\") as f:\n",
    "        f.write(f\"[{timestamp}] {message}\\n\")\n",
    "\n",
    "try:\n",
    "    df = pd.read_csv(\"losses.csv\")\n",
    "    log_event(\"CSV файл losses.csv успішно зчитано.\")\n",
    "except FileNotFoundError:\n",
    "    log_event(\"Помилка: файл losses.csv не знайдено.\")\n",
    "    raise\n",
    "\n",
    "south_losses = df[df[\"Напрямок\"] == \"Південь\"]\n",
    "print(south_losses)\n",
    "\n",
    "log_event(f\"Відфільтровано записи за напрямком 'Південь': {len(south_losses)} записів.\")\n"
   ]
  }
 ],
 "metadata": {
  "kernelspec": {
   "display_name": "Python 3",
   "language": "python",
   "name": "python3"
  },
  "language_info": {
   "codemirror_mode": {
    "name": "ipython",
    "version": 3
   },
   "file_extension": ".py",
   "mimetype": "text/x-python",
   "name": "python",
   "nbconvert_exporter": "python",
   "pygments_lexer": "ipython3",
   "version": "3.11.9"
  }
 },
 "nbformat": 4,
 "nbformat_minor": 5
}
