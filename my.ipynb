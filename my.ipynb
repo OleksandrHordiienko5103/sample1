{
 "cells": [
  {
   "cell_type": "code",
   "execution_count": null,
   "id": "dc7e6cc1",
   "metadata": {},
   "outputs": [],
   "source": [
    "2+2"
   ]
  },
  {
   "cell_type": "code",
   "execution_count": null,
   "id": "be427107",
   "metadata": {},
   "outputs": [],
   "source": []
  },
  {
   "cell_type": "code",
   "execution_count": 31,
   "id": "ec8b08bc",
   "metadata": {},
   "outputs": [
    {
     "name": "stdout",
     "output_type": "stream",
     "text": [
      "x1, x2, x3, x4\n"
     ]
    },
    {
     "ename": "NameError",
     "evalue": "name 'dfhd' is not defined",
     "output_type": "error",
     "traceback": [
      "\u001b[31m---------------------------------------------------------------------------\u001b[39m",
      "\u001b[31mNameError\u001b[39m                                 Traceback (most recent call last)",
      "\u001b[36mCell\u001b[39m\u001b[36m \u001b[39m\u001b[32mIn[31]\u001b[39m\u001b[32m, line 18\u001b[39m\n\u001b[32m     14\u001b[39m \u001b[38;5;28mprint\u001b[39m(\u001b[33mf\u001b[39m\u001b[33m\"\u001b[39m\u001b[33mx1, x2, x3, x4\u001b[39m\u001b[33m\"\u001b[39m)\n\u001b[32m     15\u001b[39m x1=x2\n\u001b[32m---> \u001b[39m\u001b[32m18\u001b[39m \u001b[43mdfhd\u001b[49m\n",
      "\u001b[31mNameError\u001b[39m: name 'dfhd' is not defined"
     ]
    }
   ],
   "source": [
    "x1 = True\n",
    "x2 = \"string\"\n",
    "x3 = 2.3\n",
    "x4 = 3\n",
    "\n",
    "type(x1)\n",
    "\n",
    "type(x2)\n",
    "\n",
    "type(x3)\n",
    "\n",
    "type(x4)\n",
    "\n",
    "print(f\"x1, x2, x3, x4\")\n",
    "x1=x2\n",
    "\n",
    "\n",
    "dfhd"
   ]
  }
 ],
 "metadata": {
  "kernelspec": {
   "display_name": "Python 3",
   "language": "python",
   "name": "python3"
  },
  "language_info": {
   "codemirror_mode": {
    "name": "ipython",
    "version": 3
   },
   "file_extension": ".py",
   "mimetype": "text/x-python",
   "name": "python",
   "nbconvert_exporter": "python",
   "pygments_lexer": "ipython3",
   "version": "3.11.9"
  }
 },
 "nbformat": 4,
 "nbformat_minor": 5
}
